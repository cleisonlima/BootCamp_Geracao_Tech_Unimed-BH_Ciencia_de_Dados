{
  "nbformat": 4,
  "nbformat_minor": 0,
  "metadata": {
    "colab": {
      "provenance": [],
      "authorship_tag": "ABX9TyNdLKipEQcKjwdRggDfbM6y",
      "include_colab_link": true
    },
    "kernelspec": {
      "name": "python3",
      "display_name": "Python 3"
    },
    "language_info": {
      "name": "python"
    }
  },
  "cells": [
    {
      "cell_type": "markdown",
      "metadata": {
        "id": "view-in-github",
        "colab_type": "text"
      },
      "source": [
        "<a href=\"https://colab.research.google.com/github/cleisonlima/dio-desafio-github/blob/main/Desafios_Iniciais_Py_Unimed_BH.ipynb\" target=\"_parent\"><img src=\"https://colab.research.google.com/assets/colab-badge.svg\" alt=\"Open In Colab\"/></a>"
      ]
    },
    {
      "cell_type": "markdown",
      "source": [
        "Desafios Iniciais Py - Unimed-BH\n",
        "1 / 3 - As Duas Torres"
      ],
      "metadata": {
        "id": "TK99l1ffz8vu"
      }
    },
    {
      "cell_type": "code",
      "source": [
        "entrada = input().split()\n",
        "\n",
        "distancia = int(entrada[0])\n",
        "diametro1 = int(entrada[1])\n",
        "diametro2 = int(entrada[2])\n",
        "\n",
        "soma_diametros = diametro1+diametro2\n",
        "\n",
        "ICM = distancia/soma_diametros\n",
        "\n",
        "print(f\"{ICM:.2f}\")\n"
      ],
      "metadata": {
        "colab": {
          "base_uri": "https://localhost:8080/"
        },
        "id": "yUaTJHDvU_At",
        "outputId": "4759edb5-75d0-41ac-8625-e2d1053b2036"
      },
      "execution_count": null,
      "outputs": [
        {
          "output_type": "stream",
          "name": "stdout",
          "text": [
            "2 2 2\n",
            "0.50\n"
          ]
        }
      ]
    },
    {
      "cell_type": "markdown",
      "source": [
        "Desafios Iniciais Py - Unimed-BH 2 / 3 - Cálculo de viagem"
      ],
      "metadata": {
        "id": "aQDrDW2dzrdg"
      }
    },
    {
      "cell_type": "code",
      "source": [
        "cachorros, pessoas = map(int, input().split(\" \"))\n",
        "print(f\"{cachorros/pessoas:.2f}\")"
      ],
      "metadata": {
        "colab": {
          "base_uri": "https://localhost:8080/"
        },
        "id": "JPGQxcLS5mLA",
        "outputId": "60c2a14c-4536-47f8-afeb-537e1c24385c"
      },
      "execution_count": null,
      "outputs": [
        {
          "output_type": "stream",
          "name": "stdout",
          "text": [
            "2 2\n",
            "1.00\n"
          ]
        }
      ]
    },
    {
      "cell_type": "markdown",
      "source": [
        "Desafios Iniciais Py - Unimed-BH\n",
        "3 / 3 - Cálculo de viagem\n"
      ],
      "metadata": {
        "id": "yrUtepArzj2V"
      }
    },
    {
      "cell_type": "code",
      "source": [
        "horas, velocidade_media = map(int, input().split(\" \"))\n",
        "print(f\"{(horas*velocidade_media)/12:.3f}\")\n"
      ],
      "metadata": {
        "colab": {
          "base_uri": "https://localhost:8080/"
        },
        "id": "YgTlqZ4XwZkA",
        "outputId": "8e232036-3f99-4819-9fad-287f03a44dd9"
      },
      "execution_count": null,
      "outputs": [
        {
          "output_type": "stream",
          "name": "stdout",
          "text": [
            "3 3\n",
            "0.750\n"
          ]
        }
      ]
    },
    {
      "cell_type": "code",
      "source": [],
      "metadata": {
        "id": "e_JgymHOyyu6"
      },
      "execution_count": null,
      "outputs": []
    }
  ]
}