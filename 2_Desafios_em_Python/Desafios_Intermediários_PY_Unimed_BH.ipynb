{
  "nbformat": 4,
  "nbformat_minor": 0,
  "metadata": {
    "colab": {
      "provenance": [],
      "authorship_tag": "ABX9TyPMEG2QROrqZm2xOvKbxXKN",
      "include_colab_link": true
    },
    "kernelspec": {
      "name": "python3",
      "display_name": "Python 3"
    },
    "language_info": {
      "name": "python"
    }
  },
  "cells": [
    {
      "cell_type": "markdown",
      "metadata": {
        "id": "view-in-github",
        "colab_type": "text"
      },
      "source": [
        "<a href=\"https://colab.research.google.com/github/cleisonlima/dio-desafio-github/blob/main/Desafios_Intermedi%C3%A1rios_PY_Unimed_BH.ipynb\" target=\"_parent\"><img src=\"https://colab.research.google.com/assets/colab-badge.svg\" alt=\"Open In Colab\"/></a>"
      ]
    },
    {
      "cell_type": "markdown",
      "source": [
        "# Desafio \n",
        "\n",
        "1.   Alfabeto\n",
        "\n",
        "\n",
        "\n",
        "\n"
      ],
      "metadata": {
        "id": "hTUuwqhQ9xwT"
      }
    },
    {
      "cell_type": "code",
      "source": [
        "alfabeto = ['A', 'B', 'C', 'D', 'E', 'F', 'G', 'H', 'I', 'J', 'K', 'L', 'M', 'N', 'O', 'P', 'Q', 'R', 'S', 'T', 'U', 'V', 'W', 'X', 'Y', 'Z']\n",
        "letra = input()\n",
        "\n",
        "print(alfabeto.index(letra)+1)"
      ],
      "metadata": {
        "id": "beaV_csf9wMw"
      },
      "execution_count": null,
      "outputs": []
    },
    {
      "cell_type": "markdown",
      "source": [
        "# Desafio \n",
        "\n",
        "2.   Papagaio Poliglota"
      ],
      "metadata": {
        "id": "0UDTuGPy-BLz"
      }
    },
    {
      "cell_type": "code",
      "source": [
        "pernas = {\n",
        "    \"esquerda\": \"ingles\",\n",
        "    \"direita\": \"frances\",\n",
        "    \"nenhuma\": \"portugues\",\n",
        "    \"ambas\": \"caiu\"\n",
        "}\n",
        "\n",
        "while True:\n",
        "    try:\n",
        "        perna = input()\n",
        "        print(pernas[perna])\n",
        "    except EOFError:\n",
        "        break\n"
      ],
      "metadata": {
        "id": "fdsgkkGI7ppF"
      },
      "execution_count": null,
      "outputs": []
    },
    {
      "cell_type": "markdown",
      "source": [
        "# Desafio \n",
        "\n",
        "3.   Aumento Salarial"
      ],
      "metadata": {
        "id": "ZHChEGEI-7C0"
      }
    },
    {
      "cell_type": "code",
      "source": [
        "salario = int(input()) \n",
        "\n",
        "if salario <= 600.00: \n",
        "    percentual = 0.17  \n",
        "     \n",
        "elif salario >= 600.01 and salario <=900.00:\n",
        "    percentual = 0.13    \n",
        "     \n",
        "elif salario >= 900.01 and salario <=1500.00: \n",
        "    percentual = 0.12   \n",
        "\n",
        "elif salario >= 1500.01 and salario <=2000.00: \n",
        "    percentual = 0.10\n",
        "    \n",
        "else: percentual = 0.05\n",
        "\n",
        "novoSalario = (salario * (percentual + 1))\n",
        "reajuste = (novoSalario - salario)\n",
        "\n",
        "p = int(percentual * 100)\n",
        "\n",
        "print(f\"Novo salario: {(novoSalario):.2f}\\n Reajuste ganho: {reajuste:.2f}\\n Em percentual: {p} %\".replace(\".\",\".\"))"
      ],
      "metadata": {
        "colab": {
          "base_uri": "https://localhost:8080/"
        },
        "id": "-hi6q645_CKv",
        "outputId": "98169692-1339-4a62-f6bb-90783613a806"
      },
      "execution_count": 54,
      "outputs": [
        {
          "output_type": "stream",
          "name": "stdout",
          "text": [
            "1000\n",
            "Novo salario: 1120.00\n",
            " Reajuste ganho: 120.00\n",
            " Em percentual: 12 %\n"
          ]
        }
      ]
    }
  ]
}